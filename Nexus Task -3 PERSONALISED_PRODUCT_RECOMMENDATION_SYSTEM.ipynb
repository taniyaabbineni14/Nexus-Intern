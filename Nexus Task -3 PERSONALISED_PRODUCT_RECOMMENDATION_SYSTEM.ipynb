{
  "nbformat": 4,
  "nbformat_minor": 0,
  "metadata": {
    "colab": {
      "provenance": []
    },
    "kernelspec": {
      "name": "python3",
      "display_name": "Python 3"
    },
    "language_info": {
      "name": "python"
    }
  },
  "cells": [
    {
      "cell_type": "markdown",
      "source": [
        "# PERSONALISED PRODUCT RECOMMENDATION SYSTEM\n"
      ],
      "metadata": {
        "id": "usHL1748jUhf"
      }
    },
    {
      "cell_type": "markdown",
      "source": [
        "👋 Welcome to my data science project! In this project, we'll be analyzing a dataset of over 1,000 products listed on Flipkart and building a recommendation system for these products. 🛍️💻\n",
        "\n",
        "The dataset includes details such as product  **Name**, **Ratings,** **MRP,** **Discount,** **and Selling Price**  . Our goal is to understand customer preferences, identify purchasing patterns, and develop a recommendation system to suggest products to users based on their interests. 🧐👨‍💻\n",
        "\n",
        "Our project will consist of the following steps:\n",
        "\n",
        "📊 **Data collection**: We'll collect the Flipkart healthcare products dataset from Kaggle.\n",
        "\n",
        "🧹 **Data preparation** : We'll clean and preprocess the dataset for analysis.\n",
        "\n",
        "🕵️‍♂️ **Exploratory data analysis**: We'll analyze the data to understand the distribution of products by categories, customer ratings, and reviews.\n",
        "\n",
        "📈 **Data visualization** : We'll visualize the data to identify trends and patterns.\n",
        "\n",
        "💡 **Simples recommendation system**: We'll develop a recommendation system using machine learning algorithm **Linear Regression** to suggest products to users based on their interests and previous purchases."
      ],
      "metadata": {
        "id": "iVTNUa5ikCl8"
      }
    },
    {
      "cell_type": "markdown",
      "source": [
        "# Data collection"
      ],
      "metadata": {
        "id": "-HpQvHcJmAzk"
      }
    },
    {
      "cell_type": "markdown",
      "source": [
        "👋 Hey there! So, we're going to be working on a project that involves analyzing data from Flipkart - you know, the huge online retailer? 🛍️ They sell everything for healthcare so there's a lot to look at.\n",
        "\n",
        "📊 The dataset we'll be using has information on over 1000 products sold by Flipkart , like their names, prices, ratings, and Discount. We're going to be digging into this data and figuring out what it all means, and how we can use it to help Flipkart and its customers.\n",
        "\n",
        "For Flipkart, analyzing this data can help them understand which products are popular and which aren't, and they can use that information to figure out how to price and market things better. For customers, having access to this data can help them decide what to buy - if they see that a product has good ratings, they'll be more likely to buy it. 💸\n",
        "\n",
        "So, we're going to be exploring this dataset, doing some cool data analysis and visualization 📈, and even building a recommendation system based on the data. It's going to be pretty sweet, so let's get started! 🚀\n"
      ],
      "metadata": {
        "id": "oJq80zcQmQkx"
      }
    },
    {
      "cell_type": "code",
      "source": [
        "import tensorflow"
      ],
      "metadata": {
        "id": "QVHOF_3_jWC2"
      },
      "execution_count": null,
      "outputs": []
    },
    {
      "cell_type": "code",
      "source": [
        "from keras.preprocessing.image import ImageDataGenerator\n",
        "from keras.models import Sequential\n",
        "from keras.layers import Dense, Flatten\n",
        "from keras.layers import Conv2D, MaxPool2D\n",
        "from tensorflow.keras import layers\n",
        "from keras.layers import Dropout\n",
        "from keras.models import load_model\n",
        "import numpy as np"
      ],
      "metadata": {
        "id": "CBGX12qeqO24"
      },
      "execution_count": null,
      "outputs": []
    },
    {
      "cell_type": "code",
      "source": [
        "train_datagen = ImageDataGenerator(rescale=1./255,shear_range=0.2,zoom_range=0.2,horizontal_flip=True)\n",
        "\n",
        "test_datagen = ImageDataGenerator(rescale=1./255)"
      ],
      "metadata": {
        "id": "-lKkY1zGqUfm"
      },
      "execution_count": null,
      "outputs": []
    },
    {
      "cell_type": "code",
      "source": [
        "import pandas as pd\n",
        "\n",
        "# load CSV file from Google Drive\n",
        "df = pd.read_csv(\"/content/drive/MyDrive/flipkart_healthcare.zip\")"
      ],
      "metadata": {
        "id": "dSBoG-FdrbNY"
      },
      "execution_count": null,
      "outputs": []
    },
    {
      "cell_type": "code",
      "source": [
        "df.head()"
      ],
      "metadata": {
        "colab": {
          "base_uri": "https://localhost:8080/",
          "height": 206
        },
        "id": "WkKrgV2nrpGE",
        "outputId": "12bc9f5c-0757-4251-9ae7-b2ffe4ba7ec9"
      },
      "execution_count": null,
      "outputs": [
        {
          "output_type": "execute_result",
          "data": {
            "text/plain": [
              "                                                Name  Ratings  no_ratings  \\\n",
              "0  MUSCLEBLAZE Super Gainer XXL Weight Gainers/Ma...      4.0      179795   \n",
              "1  MUSCLEBLAZE Beginner's Whey Protein, No Added ...      4.2       60216   \n",
              "2  WOW Life Science Omega-3 1000mg Capsules with ...      4.4       20868   \n",
              "3  BIGMUSCLES NUTRITION Omega-3 Fish Oil Triple S...      4.3        8602   \n",
              "4                MUSCLEBLAZE Beginner's Whey Protein      4.2       60216   \n",
              "\n",
              "  Selling Price    MRP  Discount  \n",
              "0           893  1,719        48  \n",
              "1         1,693  2,279        25  \n",
              "2           749    899        16  \n",
              "3           339    615        44  \n",
              "4           749    849        11  "
            ],
            "text/html": [
              "\n",
              "  <div id=\"df-7cb91b51-24f7-4f53-b0f2-f6d5c6a94414\" class=\"colab-df-container\">\n",
              "    <div>\n",
              "<style scoped>\n",
              "    .dataframe tbody tr th:only-of-type {\n",
              "        vertical-align: middle;\n",
              "    }\n",
              "\n",
              "    .dataframe tbody tr th {\n",
              "        vertical-align: top;\n",
              "    }\n",
              "\n",
              "    .dataframe thead th {\n",
              "        text-align: right;\n",
              "    }\n",
              "</style>\n",
              "<table border=\"1\" class=\"dataframe\">\n",
              "  <thead>\n",
              "    <tr style=\"text-align: right;\">\n",
              "      <th></th>\n",
              "      <th>Name</th>\n",
              "      <th>Ratings</th>\n",
              "      <th>no_ratings</th>\n",
              "      <th>Selling Price</th>\n",
              "      <th>MRP</th>\n",
              "      <th>Discount</th>\n",
              "    </tr>\n",
              "  </thead>\n",
              "  <tbody>\n",
              "    <tr>\n",
              "      <th>0</th>\n",
              "      <td>MUSCLEBLAZE Super Gainer XXL Weight Gainers/Ma...</td>\n",
              "      <td>4.0</td>\n",
              "      <td>179795</td>\n",
              "      <td>893</td>\n",
              "      <td>1,719</td>\n",
              "      <td>48</td>\n",
              "    </tr>\n",
              "    <tr>\n",
              "      <th>1</th>\n",
              "      <td>MUSCLEBLAZE Beginner's Whey Protein, No Added ...</td>\n",
              "      <td>4.2</td>\n",
              "      <td>60216</td>\n",
              "      <td>1,693</td>\n",
              "      <td>2,279</td>\n",
              "      <td>25</td>\n",
              "    </tr>\n",
              "    <tr>\n",
              "      <th>2</th>\n",
              "      <td>WOW Life Science Omega-3 1000mg Capsules with ...</td>\n",
              "      <td>4.4</td>\n",
              "      <td>20868</td>\n",
              "      <td>749</td>\n",
              "      <td>899</td>\n",
              "      <td>16</td>\n",
              "    </tr>\n",
              "    <tr>\n",
              "      <th>3</th>\n",
              "      <td>BIGMUSCLES NUTRITION Omega-3 Fish Oil Triple S...</td>\n",
              "      <td>4.3</td>\n",
              "      <td>8602</td>\n",
              "      <td>339</td>\n",
              "      <td>615</td>\n",
              "      <td>44</td>\n",
              "    </tr>\n",
              "    <tr>\n",
              "      <th>4</th>\n",
              "      <td>MUSCLEBLAZE Beginner's Whey Protein</td>\n",
              "      <td>4.2</td>\n",
              "      <td>60216</td>\n",
              "      <td>749</td>\n",
              "      <td>849</td>\n",
              "      <td>11</td>\n",
              "    </tr>\n",
              "  </tbody>\n",
              "</table>\n",
              "</div>\n",
              "    <div class=\"colab-df-buttons\">\n",
              "\n",
              "  <div class=\"colab-df-container\">\n",
              "    <button class=\"colab-df-convert\" onclick=\"convertToInteractive('df-7cb91b51-24f7-4f53-b0f2-f6d5c6a94414')\"\n",
              "            title=\"Convert this dataframe to an interactive table.\"\n",
              "            style=\"display:none;\">\n",
              "\n",
              "  <svg xmlns=\"http://www.w3.org/2000/svg\" height=\"24px\" viewBox=\"0 -960 960 960\">\n",
              "    <path d=\"M120-120v-720h720v720H120Zm60-500h600v-160H180v160Zm220 220h160v-160H400v160Zm0 220h160v-160H400v160ZM180-400h160v-160H180v160Zm440 0h160v-160H620v160ZM180-180h160v-160H180v160Zm440 0h160v-160H620v160Z\"/>\n",
              "  </svg>\n",
              "    </button>\n",
              "\n",
              "  <style>\n",
              "    .colab-df-container {\n",
              "      display:flex;\n",
              "      gap: 12px;\n",
              "    }\n",
              "\n",
              "    .colab-df-convert {\n",
              "      background-color: #E8F0FE;\n",
              "      border: none;\n",
              "      border-radius: 50%;\n",
              "      cursor: pointer;\n",
              "      display: none;\n",
              "      fill: #1967D2;\n",
              "      height: 32px;\n",
              "      padding: 0 0 0 0;\n",
              "      width: 32px;\n",
              "    }\n",
              "\n",
              "    .colab-df-convert:hover {\n",
              "      background-color: #E2EBFA;\n",
              "      box-shadow: 0px 1px 2px rgba(60, 64, 67, 0.3), 0px 1px 3px 1px rgba(60, 64, 67, 0.15);\n",
              "      fill: #174EA6;\n",
              "    }\n",
              "\n",
              "    .colab-df-buttons div {\n",
              "      margin-bottom: 4px;\n",
              "    }\n",
              "\n",
              "    [theme=dark] .colab-df-convert {\n",
              "      background-color: #3B4455;\n",
              "      fill: #D2E3FC;\n",
              "    }\n",
              "\n",
              "    [theme=dark] .colab-df-convert:hover {\n",
              "      background-color: #434B5C;\n",
              "      box-shadow: 0px 1px 3px 1px rgba(0, 0, 0, 0.15);\n",
              "      filter: drop-shadow(0px 1px 2px rgba(0, 0, 0, 0.3));\n",
              "      fill: #FFFFFF;\n",
              "    }\n",
              "  </style>\n",
              "\n",
              "    <script>\n",
              "      const buttonEl =\n",
              "        document.querySelector('#df-7cb91b51-24f7-4f53-b0f2-f6d5c6a94414 button.colab-df-convert');\n",
              "      buttonEl.style.display =\n",
              "        google.colab.kernel.accessAllowed ? 'block' : 'none';\n",
              "\n",
              "      async function convertToInteractive(key) {\n",
              "        const element = document.querySelector('#df-7cb91b51-24f7-4f53-b0f2-f6d5c6a94414');\n",
              "        const dataTable =\n",
              "          await google.colab.kernel.invokeFunction('convertToInteractive',\n",
              "                                                    [key], {});\n",
              "        if (!dataTable) return;\n",
              "\n",
              "        const docLinkHtml = 'Like what you see? Visit the ' +\n",
              "          '<a target=\"_blank\" href=https://colab.research.google.com/notebooks/data_table.ipynb>data table notebook</a>'\n",
              "          + ' to learn more about interactive tables.';\n",
              "        element.innerHTML = '';\n",
              "        dataTable['output_type'] = 'display_data';\n",
              "        await google.colab.output.renderOutput(dataTable, element);\n",
              "        const docLink = document.createElement('div');\n",
              "        docLink.innerHTML = docLinkHtml;\n",
              "        element.appendChild(docLink);\n",
              "      }\n",
              "    </script>\n",
              "  </div>\n",
              "\n",
              "\n",
              "<div id=\"df-a521250a-4e26-4210-97b6-9abad7b1d46f\">\n",
              "  <button class=\"colab-df-quickchart\" onclick=\"quickchart('df-a521250a-4e26-4210-97b6-9abad7b1d46f')\"\n",
              "            title=\"Suggest charts.\"\n",
              "            style=\"display:none;\">\n",
              "\n",
              "<svg xmlns=\"http://www.w3.org/2000/svg\" height=\"24px\"viewBox=\"0 0 24 24\"\n",
              "     width=\"24px\">\n",
              "    <g>\n",
              "        <path d=\"M19 3H5c-1.1 0-2 .9-2 2v14c0 1.1.9 2 2 2h14c1.1 0 2-.9 2-2V5c0-1.1-.9-2-2-2zM9 17H7v-7h2v7zm4 0h-2V7h2v10zm4 0h-2v-4h2v4z\"/>\n",
              "    </g>\n",
              "</svg>\n",
              "  </button>\n",
              "\n",
              "<style>\n",
              "  .colab-df-quickchart {\n",
              "    background-color: #E8F0FE;\n",
              "    border: none;\n",
              "    border-radius: 50%;\n",
              "    cursor: pointer;\n",
              "    display: none;\n",
              "    fill: #1967D2;\n",
              "    height: 32px;\n",
              "    padding: 0 0 0 0;\n",
              "    width: 32px;\n",
              "  }\n",
              "\n",
              "  .colab-df-quickchart:hover {\n",
              "    background-color: #E2EBFA;\n",
              "    box-shadow: 0px 1px 2px rgba(60, 64, 67, 0.3), 0px 1px 3px 1px rgba(60, 64, 67, 0.15);\n",
              "    fill: #174EA6;\n",
              "  }\n",
              "\n",
              "  [theme=dark] .colab-df-quickchart {\n",
              "    background-color: #3B4455;\n",
              "    fill: #D2E3FC;\n",
              "  }\n",
              "\n",
              "  [theme=dark] .colab-df-quickchart:hover {\n",
              "    background-color: #434B5C;\n",
              "    box-shadow: 0px 1px 3px 1px rgba(0, 0, 0, 0.15);\n",
              "    filter: drop-shadow(0px 1px 2px rgba(0, 0, 0, 0.3));\n",
              "    fill: #FFFFFF;\n",
              "  }\n",
              "</style>\n",
              "\n",
              "  <script>\n",
              "    async function quickchart(key) {\n",
              "      const charts = await google.colab.kernel.invokeFunction(\n",
              "          'suggestCharts', [key], {});\n",
              "    }\n",
              "    (() => {\n",
              "      let quickchartButtonEl =\n",
              "        document.querySelector('#df-a521250a-4e26-4210-97b6-9abad7b1d46f button');\n",
              "      quickchartButtonEl.style.display =\n",
              "        google.colab.kernel.accessAllowed ? 'block' : 'none';\n",
              "    })();\n",
              "  </script>\n",
              "</div>\n",
              "    </div>\n",
              "  </div>\n"
            ]
          },
          "metadata": {},
          "execution_count": 152
        }
      ]
    },
    {
      "cell_type": "markdown",
      "source": [
        "# 2-Data preparation"
      ],
      "metadata": {
        "id": "H44iBAyDnOtj"
      }
    },
    {
      "cell_type": "markdown",
      "source": [
        "Before we dive into the data analysis and visualization, we need to make sure our dataset is clean and properly formatted. This process is called data preparation, and it involves several steps:\n",
        "\n",
        "2.1 🔍 Data Inspection: We'll start by inspecting the dataset to see if there are any missing values, duplicates, or inconsistent data. We'll also check if the data types are correct and make sure the dataset is ready for analysis.\n",
        "\n",
        "2.2 🧹 Data Cleaning: Next, we'll clean the dataset by removing or correcting any errors, inconsistencies, or irrelevant information. This will make the dataset more reliable and accurate.\n",
        "\n",
        "2.3 📏 Data Transformation: After cleaning the dataset, we may need to transform the data to make it more useful for analysis. This can include scaling, normalization, or feature engineering.\n",
        "\n",
        "2.4 💾 Data Saving: Once we've prepared the data, we'll save it in a new file to avoid overwriting the original dataset. This way, we can always go back to the original dataset if we need to.\n",
        "\n",
        "By following these steps, we can ensure that our data is clean, accurate, and ready for analysis! 🚀"
      ],
      "metadata": {
        "id": "nM7P2NFWnTl0"
      }
    },
    {
      "cell_type": "code",
      "source": [
        "# check the number of rows and columns\n",
        "df.shape"
      ],
      "metadata": {
        "colab": {
          "base_uri": "https://localhost:8080/"
        },
        "id": "aAlImub0rtQk",
        "outputId": "4528d4e5-c1e2-499f-d618-45970f3718d2"
      },
      "execution_count": null,
      "outputs": [
        {
          "output_type": "execute_result",
          "data": {
            "text/plain": [
              "(211, 6)"
            ]
          },
          "metadata": {},
          "execution_count": 153
        }
      ]
    },
    {
      "cell_type": "code",
      "source": [
        "df.info()"
      ],
      "metadata": {
        "colab": {
          "base_uri": "https://localhost:8080/"
        },
        "id": "vJleizMnFH6J",
        "outputId": "2dd786fb-b06b-4fa8-866f-20346df633d9"
      },
      "execution_count": null,
      "outputs": [
        {
          "output_type": "stream",
          "name": "stdout",
          "text": [
            "<class 'pandas.core.frame.DataFrame'>\n",
            "RangeIndex: 211 entries, 0 to 210\n",
            "Data columns (total 6 columns):\n",
            " #   Column         Non-Null Count  Dtype  \n",
            "---  ------         --------------  -----  \n",
            " 0   Name           211 non-null    object \n",
            " 1   Ratings        211 non-null    float64\n",
            " 2   no_ratings     211 non-null    int64  \n",
            " 3   Selling Price  211 non-null    object \n",
            " 4   MRP            211 non-null    object \n",
            " 5   Discount       211 non-null    int64  \n",
            "dtypes: float64(1), int64(2), object(3)\n",
            "memory usage: 10.0+ KB\n"
          ]
        }
      ]
    },
    {
      "cell_type": "code",
      "source": [
        "# Under standing stastics in the data set\n",
        "df.describe( ).style.background_gradient(cmap='Accent' )\n"
      ],
      "metadata": {
        "colab": {
          "base_uri": "https://localhost:8080/",
          "height": 300
        },
        "id": "QT8zkWNvGBHb",
        "outputId": "ecd957c4-0915-4ffe-cd48-11930699f710"
      },
      "execution_count": null,
      "outputs": [
        {
          "output_type": "execute_result",
          "data": {
            "text/plain": [
              "<pandas.io.formats.style.Styler at 0x7b1054c43c40>"
            ],
            "text/html": [
              "<style type=\"text/css\">\n",
              "#T_c0e6c_row0_col0, #T_c0e6c_row0_col2, #T_c0e6c_row7_col1 {\n",
              "  background-color: #666666;\n",
              "  color: #f1f1f1;\n",
              "}\n",
              "#T_c0e6c_row0_col1, #T_c0e6c_row1_col0, #T_c0e6c_row1_col1, #T_c0e6c_row2_col0, #T_c0e6c_row2_col1, #T_c0e6c_row2_col2, #T_c0e6c_row3_col0, #T_c0e6c_row3_col1, #T_c0e6c_row3_col2, #T_c0e6c_row4_col0, #T_c0e6c_row4_col1, #T_c0e6c_row4_col2, #T_c0e6c_row5_col0, #T_c0e6c_row5_col1, #T_c0e6c_row6_col0, #T_c0e6c_row6_col1, #T_c0e6c_row7_col0 {\n",
              "  background-color: #7fc97f;\n",
              "  color: #000000;\n",
              "}\n",
              "#T_c0e6c_row1_col2, #T_c0e6c_row5_col2 {\n",
              "  background-color: #beaed4;\n",
              "  color: #000000;\n",
              "}\n",
              "#T_c0e6c_row6_col2 {\n",
              "  background-color: #fdc086;\n",
              "  color: #000000;\n",
              "}\n",
              "#T_c0e6c_row7_col2 {\n",
              "  background-color: #ffff99;\n",
              "  color: #000000;\n",
              "}\n",
              "</style>\n",
              "<table id=\"T_c0e6c\" class=\"dataframe\">\n",
              "  <thead>\n",
              "    <tr>\n",
              "      <th class=\"blank level0\" >&nbsp;</th>\n",
              "      <th id=\"T_c0e6c_level0_col0\" class=\"col_heading level0 col0\" >Ratings</th>\n",
              "      <th id=\"T_c0e6c_level0_col1\" class=\"col_heading level0 col1\" >no_ratings</th>\n",
              "      <th id=\"T_c0e6c_level0_col2\" class=\"col_heading level0 col2\" >Discount</th>\n",
              "    </tr>\n",
              "  </thead>\n",
              "  <tbody>\n",
              "    <tr>\n",
              "      <th id=\"T_c0e6c_level0_row0\" class=\"row_heading level0 row0\" >count</th>\n",
              "      <td id=\"T_c0e6c_row0_col0\" class=\"data row0 col0\" >211.000000</td>\n",
              "      <td id=\"T_c0e6c_row0_col1\" class=\"data row0 col1\" >211.000000</td>\n",
              "      <td id=\"T_c0e6c_row0_col2\" class=\"data row0 col2\" >211.000000</td>\n",
              "    </tr>\n",
              "    <tr>\n",
              "      <th id=\"T_c0e6c_level0_row1\" class=\"row_heading level0 row1\" >mean</th>\n",
              "      <td id=\"T_c0e6c_row1_col0\" class=\"data row1 col0\" >4.166825</td>\n",
              "      <td id=\"T_c0e6c_row1_col1\" class=\"data row1 col1\" >2845.748815</td>\n",
              "      <td id=\"T_c0e6c_row1_col2\" class=\"data row1 col2\" >42.417062</td>\n",
              "    </tr>\n",
              "    <tr>\n",
              "      <th id=\"T_c0e6c_level0_row2\" class=\"row_heading level0 row2\" >std</th>\n",
              "      <td id=\"T_c0e6c_row2_col0\" class=\"data row2 col0\" >0.321364</td>\n",
              "      <td id=\"T_c0e6c_row2_col1\" class=\"data row2 col1\" >14898.467491</td>\n",
              "      <td id=\"T_c0e6c_row2_col2\" class=\"data row2 col2\" >24.344482</td>\n",
              "    </tr>\n",
              "    <tr>\n",
              "      <th id=\"T_c0e6c_level0_row3\" class=\"row_heading level0 row3\" >min</th>\n",
              "      <td id=\"T_c0e6c_row3_col0\" class=\"data row3 col0\" >2.700000</td>\n",
              "      <td id=\"T_c0e6c_row3_col1\" class=\"data row3 col1\" >2.000000</td>\n",
              "      <td id=\"T_c0e6c_row3_col2\" class=\"data row3 col2\" >1.000000</td>\n",
              "    </tr>\n",
              "    <tr>\n",
              "      <th id=\"T_c0e6c_level0_row4\" class=\"row_heading level0 row4\" >25%</th>\n",
              "      <td id=\"T_c0e6c_row4_col0\" class=\"data row4 col0\" >3.950000</td>\n",
              "      <td id=\"T_c0e6c_row4_col1\" class=\"data row4 col1\" >16.500000</td>\n",
              "      <td id=\"T_c0e6c_row4_col2\" class=\"data row4 col2\" >18.500000</td>\n",
              "    </tr>\n",
              "    <tr>\n",
              "      <th id=\"T_c0e6c_level0_row5\" class=\"row_heading level0 row5\" >50%</th>\n",
              "      <td id=\"T_c0e6c_row5_col0\" class=\"data row5 col0\" >4.200000</td>\n",
              "      <td id=\"T_c0e6c_row5_col1\" class=\"data row5 col1\" >79.000000</td>\n",
              "      <td id=\"T_c0e6c_row5_col2\" class=\"data row5 col2\" >45.000000</td>\n",
              "    </tr>\n",
              "    <tr>\n",
              "      <th id=\"T_c0e6c_level0_row6\" class=\"row_heading level0 row6\" >75%</th>\n",
              "      <td id=\"T_c0e6c_row6_col0\" class=\"data row6 col0\" >4.300000</td>\n",
              "      <td id=\"T_c0e6c_row6_col1\" class=\"data row6 col1\" >563.500000</td>\n",
              "      <td id=\"T_c0e6c_row6_col2\" class=\"data row6 col2\" >62.000000</td>\n",
              "    </tr>\n",
              "    <tr>\n",
              "      <th id=\"T_c0e6c_level0_row7\" class=\"row_heading level0 row7\" >max</th>\n",
              "      <td id=\"T_c0e6c_row7_col0\" class=\"data row7 col0\" >5.000000</td>\n",
              "      <td id=\"T_c0e6c_row7_col1\" class=\"data row7 col1\" >179795.000000</td>\n",
              "      <td id=\"T_c0e6c_row7_col2\" class=\"data row7 col2\" >91.000000</td>\n",
              "    </tr>\n",
              "  </tbody>\n",
              "</table>\n"
            ]
          },
          "metadata": {},
          "execution_count": 155
        }
      ]
    },
    {
      "cell_type": "code",
      "source": [
        "df.columns"
      ],
      "metadata": {
        "colab": {
          "base_uri": "https://localhost:8080/"
        },
        "id": "D49PaquzoUC1",
        "outputId": "4fad3f79-2140-4eee-cb43-3ff9fd218bba"
      },
      "execution_count": null,
      "outputs": [
        {
          "output_type": "execute_result",
          "data": {
            "text/plain": [
              "Index(['Name', 'Ratings', 'no_ratings', 'Selling Price', 'MRP', 'Discount'], dtype='object')"
            ]
          },
          "metadata": {},
          "execution_count": 156
        }
      ]
    },
    {
      "cell_type": "code",
      "source": [
        "len(df)"
      ],
      "metadata": {
        "colab": {
          "base_uri": "https://localhost:8080/"
        },
        "id": "6BNSJI0loV4-",
        "outputId": "f9e0235e-eb32-4c32-f876-3a5fe1deac84"
      },
      "execution_count": null,
      "outputs": [
        {
          "output_type": "execute_result",
          "data": {
            "text/plain": [
              "211"
            ]
          },
          "metadata": {},
          "execution_count": 157
        }
      ]
    },
    {
      "cell_type": "code",
      "source": [
        "# Checking the correlation matrix\n",
        "import matplotlib.pyplot as plt\n",
        "import seaborn as sns\n",
        "plt.figure(figsize=(10,4))\n",
        "sns.heatmap(df.corr(),annot=True,cmap='winter_r',fmt='.2f',linewidths=1)\n",
        "plt.title(\"correlation map\")\n",
        "plt.show()"
      ],
      "metadata": {
        "colab": {
          "base_uri": "https://localhost:8080/",
          "height": 446
        },
        "id": "p0WkgNpdIEXw",
        "outputId": "5bcf732b-4f96-4c3d-d028-e4a578a626a9"
      },
      "execution_count": null,
      "outputs": [
        {
          "output_type": "stream",
          "name": "stderr",
          "text": [
            "<ipython-input-158-6bc4a839072f>:5: FutureWarning: The default value of numeric_only in DataFrame.corr is deprecated. In a future version, it will default to False. Select only valid columns or specify the value of numeric_only to silence this warning.\n",
            "  sns.heatmap(df.corr(),annot=True,cmap='winter_r',fmt='.2f',linewidths=1)\n"
          ]
        },
        {
          "output_type": "display_data",
          "data": {
            "text/plain": [
              "<Figure size 1000x400 with 2 Axes>"
            ],
            "image/png": "[encoded data removed]"
          },
          "metadata": {}
        }
      ]
    },
    {
      "cell_type": "markdown",
      "source": [
        "# Data Cleaning Process"
      ],
      "metadata": {
        "id": "EWfDLD11J57c"
      }
    },
    {
      "cell_type": "code",
      "source": [
        "# Check for missing values\n",
        "def check_missing_values(dataframe):\n",
        "    return dataframe.isnull().sum()\n",
        "\n",
        "print(check_missing_values(df))\n",
        "print(df.columns)\n"
      ],
      "metadata": {
        "colab": {
          "base_uri": "https://localhost:8080/"
        },
        "id": "Krr7cH9-r7wX",
        "outputId": "44715685-cdc2-4483-bc91-ffe8155c466e"
      },
      "execution_count": null,
      "outputs": [
        {
          "output_type": "stream",
          "name": "stdout",
          "text": [
            "Name             0\n",
            "Ratings          0\n",
            "no_ratings       0\n",
            "Selling Price    0\n",
            "MRP              0\n",
            "Discount         0\n",
            "dtype: int64\n",
            "Index(['Name', 'Ratings', 'no_ratings', 'Selling Price', 'MRP', 'Discount'], dtype='object')\n"
          ]
        }
      ]
    },
    {
      "cell_type": "code",
      "source": [
        "# Check for missing values\n",
        "def check_missing_values(dataframe):\n",
        "    return dataframe.isnull().sum()\n",
        "\n",
        "print(check_missing_values(df))\n",
        "df[df.no_ratings.isnull()]"
      ],
      "metadata": {
        "colab": {
          "base_uri": "https://localhost:8080/",
          "height": 210
        },
        "id": "tayk8DLYx9mo",
        "outputId": "b9f0c163-1668-496b-d604-af8b6be80fb7"
      },
      "execution_count": null,
      "outputs": [
        {
          "output_type": "stream",
          "name": "stdout",
          "text": [
            "Name             0\n",
            "Ratings          0\n",
            "no_ratings       0\n",
            "Selling Price    0\n",
            "MRP              0\n",
            "Discount         0\n",
            "dtype: int64\n"
          ]
        },
        {
          "output_type": "execute_result",
          "data": {
            "text/plain": [
              "Empty DataFrame\n",
              "Columns: [Name, Ratings, no_ratings, Selling Price, MRP, Discount]\n",
              "Index: []"
            ],
            "text/html": [
              "\n",
              "  <div id=\"df-77670ba2-3fa0-438c-abd3-063ef5f8a8dc\" class=\"colab-df-container\">\n",
              "    <div>\n",
              "<style scoped>\n",
              "    .dataframe tbody tr th:only-of-type {\n",
              "        vertical-align: middle;\n",
              "    }\n",
              "\n",
              "    .dataframe tbody tr th {\n",
              "        vertical-align: top;\n",
              "    }\n",
              "\n",
              "    .dataframe thead th {\n",
              "        text-align: right;\n",
              "    }\n",
              "</style>\n",
              "<table border=\"1\" class=\"dataframe\">\n",
              "  <thead>\n",
              "    <tr style=\"text-align: right;\">\n",
              "      <th></th>\n",
              "      <th>Name</th>\n",
              "      <th>Ratings</th>\n",
              "      <th>no_ratings</th>\n",
              "      <th>Selling Price</th>\n",
              "      <th>MRP</th>\n",
              "      <th>Discount</th>\n",
              "    </tr>\n",
              "  </thead>\n",
              "  <tbody>\n",
              "  </tbody>\n",
              "</table>\n",
              "</div>\n",
              "    <div class=\"colab-df-buttons\">\n",
              "\n",
              "  <div class=\"colab-df-container\">\n",
              "    <button class=\"colab-df-convert\" onclick=\"convertToInteractive('df-77670ba2-3fa0-438c-abd3-063ef5f8a8dc')\"\n",
              "            title=\"Convert this dataframe to an interactive table.\"\n",
              "            style=\"display:none;\">\n",
              "\n",
              "  <svg xmlns=\"http://www.w3.org/2000/svg\" height=\"24px\" viewBox=\"0 -960 960 960\">\n",
              "    <path d=\"M120-120v-720h720v720H120Zm60-500h600v-160H180v160Zm220 220h160v-160H400v160Zm0 220h160v-160H400v160ZM180-400h160v-160H180v160Zm440 0h160v-160H620v160ZM180-180h160v-160H180v160Zm440 0h160v-160H620v160Z\"/>\n",
              "  </svg>\n",
              "    </button>\n",
              "\n",
              "  <style>\n",
              "    .colab-df-container {\n",
              "      display:flex;\n",
              "      gap: 12px;\n",
              "    }\n",
              "\n",
              "    .colab-df-convert {\n",
              "      background-color: #E8F0FE;\n",
              "      border: none;\n",
              "      border-radius: 50%;\n",
              "      cursor: pointer;\n",
              "      display: none;\n",
              "      fill: #1967D2;\n",
              "      height: 32px;\n",
              "      padding: 0 0 0 0;\n",
              "      width: 32px;\n",
              "    }\n",
              "\n",
              "    .colab-df-convert:hover {\n",
              "      background-color: #E2EBFA;\n",
              "      box-shadow: 0px 1px 2px rgba(60, 64, 67, 0.3), 0px 1px 3px 1px rgba(60, 64, 67, 0.15);\n",
              "      fill: #174EA6;\n",
              "    }\n",
              "\n",
              "    .colab-df-buttons div {\n",
              "      margin-bottom: 4px;\n",
              "    }\n",
              "\n",
              "    [theme=dark] .colab-df-convert {\n",
              "      background-color: #3B4455;\n",
              "      fill: #D2E3FC;\n",
              "    }\n",
              "\n",
              "    [theme=dark] .colab-df-convert:hover {\n",
              "      background-color: #434B5C;\n",
              "      box-shadow: 0px 1px 3px 1px rgba(0, 0, 0, 0.15);\n",
              "      filter: drop-shadow(0px 1px 2px rgba(0, 0, 0, 0.3));\n",
              "      fill: #FFFFFF;\n",
              "    }\n",
              "  </style>\n",
              "\n",
              "    <script>\n",
              "      const buttonEl =\n",
              "        document.querySelector('#df-77670ba2-3fa0-438c-abd3-063ef5f8a8dc button.colab-df-convert');\n",
              "      buttonEl.style.display =\n",
              "        google.colab.kernel.accessAllowed ? 'block' : 'none';\n",
              "\n",
              "      async function convertToInteractive(key) {\n",
              "        const element = document.querySelector('#df-77670ba2-3fa0-438c-abd3-063ef5f8a8dc');\n",
              "        const dataTable =\n",
              "          await google.colab.kernel.invokeFunction('convertToInteractive',\n",
              "                                                    [key], {});\n",
              "        if (!dataTable) return;\n",
              "\n",
              "        const docLinkHtml = 'Like what you see? Visit the ' +\n",
              "          '<a target=\"_blank\" href=https://colab.research.google.com/notebooks/data_table.ipynb>data table notebook</a>'\n",
              "          + ' to learn more about interactive tables.';\n",
              "        element.innerHTML = '';\n",
              "        dataTable['output_type'] = 'display_data';\n",
              "        await google.colab.output.renderOutput(dataTable, element);\n",
              "        const docLink = document.createElement('div');\n",
              "        docLink.innerHTML = docLinkHtml;\n",
              "        element.appendChild(docLink);\n",
              "      }\n",
              "    </script>\n",
              "  </div>\n",
              "\n",
              "\n",
              "<div id=\"df-0535d21b-6cb1-4a29-92a3-11a031c44d1f\">\n",
              "  <button class=\"colab-df-quickchart\" onclick=\"quickchart('df-0535d21b-6cb1-4a29-92a3-11a031c44d1f')\"\n",
              "            title=\"Suggest charts.\"\n",
              "            style=\"display:none;\">\n",
              "\n",
              "<svg xmlns=\"http://www.w3.org/2000/svg\" height=\"24px\"viewBox=\"0 0 24 24\"\n",
              "     width=\"24px\">\n",
              "    <g>\n",
              "        <path d=\"M19 3H5c-1.1 0-2 .9-2 2v14c0 1.1.9 2 2 2h14c1.1 0 2-.9 2-2V5c0-1.1-.9-2-2-2zM9 17H7v-7h2v7zm4 0h-2V7h2v10zm4 0h-2v-4h2v4z\"/>\n",
              "    </g>\n",
              "</svg>\n",
              "  </button>\n",
              "\n",
              "<style>\n",
              "  .colab-df-quickchart {\n",
              "    background-color: #E8F0FE;\n",
              "    border: none;\n",
              "    border-radius: 50%;\n",
              "    cursor: pointer;\n",
              "    display: none;\n",
              "    fill: #1967D2;\n",
              "    height: 32px;\n",
              "    padding: 0 0 0 0;\n",
              "    width: 32px;\n",
              "  }\n",
              "\n",
              "  .colab-df-quickchart:hover {\n",
              "    background-color: #E2EBFA;\n",
              "    box-shadow: 0px 1px 2px rgba(60, 64, 67, 0.3), 0px 1px 3px 1px rgba(60, 64, 67, 0.15);\n",
              "    fill: #174EA6;\n",
              "  }\n",
              "\n",
              "  [theme=dark] .colab-df-quickchart {\n",
              "    background-color: #3B4455;\n",
              "    fill: #D2E3FC;\n",
              "  }\n",
              "\n",
              "  [theme=dark] .colab-df-quickchart:hover {\n",
              "    background-color: #434B5C;\n",
              "    box-shadow: 0px 1px 3px 1px rgba(0, 0, 0, 0.15);\n",
              "    filter: drop-shadow(0px 1px 2px rgba(0, 0, 0, 0.3));\n",
              "    fill: #FFFFFF;\n",
              "  }\n",
              "</style>\n",
              "\n",
              "  <script>\n",
              "    async function quickchart(key) {\n",
              "      const charts = await google.colab.kernel.invokeFunction(\n",
              "          'suggestCharts', [key], {});\n",
              "    }\n",
              "    (() => {\n",
              "      let quickchartButtonEl =\n",
              "        document.querySelector('#df-0535d21b-6cb1-4a29-92a3-11a031c44d1f button');\n",
              "      quickchartButtonEl.style.display =\n",
              "        google.colab.kernel.accessAllowed ? 'block' : 'none';\n",
              "    })();\n",
              "  </script>\n",
              "</div>\n",
              "    </div>\n",
              "  </div>\n"
            ]
          },
          "metadata": {},
          "execution_count": 160
        }
      ]
    },
    {
      "cell_type": "code",
      "source": [
        "# Remove rows with missing values in the rating_count column\n",
        "df.dropna(subset=[], inplace=True)\n",
        "print(check_missing_values(df))"
      ],
      "metadata": {
        "colab": {
          "base_uri": "https://localhost:8080/"
        },
        "id": "XDz7sKfJzAqN",
        "outputId": "e76ba068-504b-429d-ba45-f8a104e6a151"
      },
      "execution_count": null,
      "outputs": [
        {
          "output_type": "stream",
          "name": "stdout",
          "text": [
            "Name             0\n",
            "Ratings          0\n",
            "no_ratings       0\n",
            "Selling Price    0\n",
            "MRP              0\n",
            "Discount         0\n",
            "dtype: int64\n"
          ]
        }
      ]
    },
    {
      "cell_type": "code",
      "source": [
        "# Check for duplicates\n",
        "def check_duplicates(dataframe):\n",
        "    return dataframe.duplicated().sum()\n",
        "\n",
        "print(check_duplicates(df))"
      ],
      "metadata": {
        "colab": {
          "base_uri": "https://localhost:8080/"
        },
        "id": "pFBMXvbYzHik",
        "outputId": "6b3a4130-c892-4b63-8515-288d4782de14"
      },
      "execution_count": null,
      "outputs": [
        {
          "output_type": "stream",
          "name": "stdout",
          "text": [
            "0\n"
          ]
        }
      ]
    },
    {
      "cell_type": "code",
      "source": [
        "# Check data types\n",
        "def check_data_types(dataframe):\n",
        "    return dataframe.dtypes\n",
        "\n",
        "print(check_data_types(df))"
      ],
      "metadata": {
        "colab": {
          "base_uri": "https://localhost:8080/"
        },
        "id": "VukJQagFzPka",
        "outputId": "73e3f0d6-ea89-45c7-b099-3808d11d136e"
      },
      "execution_count": null,
      "outputs": [
        {
          "output_type": "stream",
          "name": "stdout",
          "text": [
            "Name              object\n",
            "Ratings          float64\n",
            "no_ratings         int64\n",
            "Selling Price     object\n",
            "MRP               object\n",
            "Discount           int64\n",
            "dtype: object\n"
          ]
        }
      ]
    },
    {
      "cell_type": "code",
      "source": [
        "df['Selling Price'] = df['Selling Price'].astype(str).str.replace('₹', '').str.replace(',', '').astype(float)\n",
        "df['MRP'] = df['MRP'].astype(str).str.replace('₹', '').str.replace(',', '').astype(float)\n",
        "df['Discount'] = df['Discount'].astype(str).str.replace('%','').astype(float)/100"
      ],
      "metadata": {
        "id": "xDV0HaAhzW3r"
      },
      "execution_count": null,
      "outputs": []
    },
    {
      "cell_type": "code",
      "source": [
        "# Dropping rows with missing values\n",
        "df_cleaned = df.dropna()\n",
        "\n",
        "# Filling missing values with mean of the column\n",
        "df_filled = df.fillna(df.mean())\n"
      ],
      "metadata": {
        "colab": {
          "base_uri": "https://localhost:8080/"
        },
        "id": "NjGazRXs0jba",
        "outputId": "7255de51-1c5e-448e-ae08-3687d18c9078"
      },
      "execution_count": null,
      "outputs": [
        {
          "output_type": "stream",
          "name": "stderr",
          "text": [
            "<ipython-input-165-d2e334c6d53b>:5: FutureWarning: The default value of numeric_only in DataFrame.mean is deprecated. In a future version, it will default to False. In addition, specifying 'numeric_only=None' is deprecated. Select only valid columns or specify the value of numeric_only to silence this warning.\n",
            "  df_filled = df.fillna(df.mean())\n"
          ]
        }
      ]
    },
    {
      "cell_type": "markdown",
      "source": [
        "# Exploratory Data Analysis (EDA) + Data visualization"
      ],
      "metadata": {
        "id": "Un1-cZU8n8ya"
      }
    },
    {
      "cell_type": "markdown",
      "source": [
        "🕵️‍♂️ Hey there! In this step, we'll become data detectives and do some exploratory data analysis 🔍. We'll take a closer look at our data to understand how our products are distributed across categories 📊, what the customer ratings look like 🌟, and what customers are saying in their reviews 💬. Let's put on our detective hats and dive into the data!"
      ],
      "metadata": {
        "id": "dr1NgkefonNV"
      }
    },
    {
      "cell_type": "code",
      "source": [
        "# Basic statistics of the dataset\n",
        "summary_stats = df.describe()\n",
        "\n",
        "# Creating a histogram of a specific column\n",
        "import matplotlib.pyplot as plt\n",
        "plt.hist(df['MRP'], bins=20)\n",
        "plt.xlabel('Selling Price')\n",
        "plt.ylabel('Discount')\n",
        "plt.show()\n"
      ],
      "metadata": {
        "colab": {
          "base_uri": "https://localhost:8080/",
          "height": 449
        },
        "id": "9e9DpusmVYkq",
        "outputId": "d2642420-3096-4848-fb99-0a032ab25015"
      },
      "execution_count": null,
      "outputs": [
        {
          "output_type": "display_data",
          "data": {
            "text/plain": [
              "<Figure size 640x480 with 1 Axes>"
            ],
            "image/png": "[encoded data removed]"
          },
          "metadata": {}
        }
      ]
    },
    {
      "cell_type": "code",
      "source": [
        "# Creating a new feature 'discount_percent'\n",
        "df['Discount'] = ((df['MRP'] - df['Selling Price']) / df['Discount']) * 100"
      ],
      "metadata": {
        "id": "hMbONyF9XsD0"
      },
      "execution_count": null,
      "outputs": []
    },
    {
      "cell_type": "code",
      "source": [
        "# Calculate correlation matrix\n",
        "correlation_matrix = df.corr()\n",
        "\n",
        "# Conduct a t-test between two groups\n",
        "from scipy.stats import ttest_ind\n",
        "group1 = df[df['Name'] == 'MUSCLEBLAZE']\n",
        "group2 = df[df['Name'] == 'BIGMUSCLES NUTRITION Omega']\n",
        "t_stat, p_value = ttest_ind(group1['Selling Price'], group2['Selling Price'])\n"
      ],
      "metadata": {
        "colab": {
          "base_uri": "https://localhost:8080/"
        },
        "id": "d7aa-sKeYmh5",
        "outputId": "94698c07-5058-4144-c65c-9fbbbfcb103f"
      },
      "execution_count": null,
      "outputs": [
        {
          "output_type": "stream",
          "name": "stderr",
          "text": [
            "<ipython-input-170-6e80df812a5d>:2: FutureWarning: The default value of numeric_only in DataFrame.corr is deprecated. In a future version, it will default to False. Select only valid columns or specify the value of numeric_only to silence this warning.\n",
            "  correlation_matrix = df.corr()\n"
          ]
        }
      ]
    },
    {
      "cell_type": "code",
      "source": [
        "from sklearn.model_selection import train_test_split\n",
        "from sklearn.preprocessing import StandardScaler\n",
        "from sklearn.linear_model import LinearRegression\n",
        "\n",
        "# Split data into features and target\n",
        "X = df[['MRP', 'Discount']]\n",
        "y = df['Selling Price']\n",
        "\n",
        "# Split data into train and test sets\n",
        "X_train, X_test, y_train, y_test = train_test_split(X, y, test_size=0.2, random_state=42)\n",
        "\n",
        "# Standardize features\n",
        "scaler = StandardScaler()\n",
        "X_train_scaled = scaler.fit_transform(X_train)\n",
        "X_test_scaled = scaler.transform(X_test)\n",
        "\n",
        "# Train a linear regression model\n",
        "model = LinearRegression()\n",
        "model.fit(X_train_scaled, y_train)\n"
      ],
      "metadata": {
        "colab": {
          "base_uri": "https://localhost:8080/",
          "height": 74
        },
        "id": "FKn_vwRKa2gw",
        "outputId": "190b17a9-9b28-4da0-b063-d19472cc063f"
      },
      "execution_count": null,
      "outputs": [
        {
          "output_type": "execute_result",
          "data": {
            "text/plain": [
              "LinearRegression()"
            ],
            "text/html": [
              "<style>#sk-container-id-2 {color: black;background-color: white;}#sk-container-id-2 pre{padding: 0;}#sk-container-id-2 div.sk-toggleable {background-color: white;}#sk-container-id-2 label.sk-toggleable__label {cursor: pointer;display: block;width: 100%;margin-bottom: 0;padding: 0.3em;box-sizing: border-box;text-align: center;}#sk-container-id-2 label.sk-toggleable__label-arrow:before {content: \"▸\";float: left;margin-right: 0.25em;color: #696969;}#sk-container-id-2 label.sk-toggleable__label-arrow:hover:before {color: black;}#sk-container-id-2 div.sk-estimator:hover label.sk-toggleable__label-arrow:before {color: black;}#sk-container-id-2 div.sk-toggleable__content {max-height: 0;max-width: 0;overflow: hidden;text-align: left;background-color: #f0f8ff;}#sk-container-id-2 div.sk-toggleable__content pre {margin: 0.2em;color: black;border-radius: 0.25em;background-color: #f0f8ff;}#sk-container-id-2 input.sk-toggleable__control:checked~div.sk-toggleable__content {max-height: 200px;max-width: 100%;overflow: auto;}#sk-container-id-2 input.sk-toggleable__control:checked~label.sk-toggleable__label-arrow:before {content: \"▾\";}#sk-container-id-2 div.sk-estimator input.sk-toggleable__control:checked~label.sk-toggleable__label {background-color: #d4ebff;}#sk-container-id-2 div.sk-label input.sk-toggleable__control:checked~label.sk-toggleable__label {background-color: #d4ebff;}#sk-container-id-2 input.sk-hidden--visually {border: 0;clip: rect(1px 1px 1px 1px);clip: rect(1px, 1px, 1px, 1px);height: 1px;margin: -1px;overflow: hidden;padding: 0;position: absolute;width: 1px;}#sk-container-id-2 div.sk-estimator {font-family: monospace;background-color: #f0f8ff;border: 1px dotted black;border-radius: 0.25em;box-sizing: border-box;margin-bottom: 0.5em;}#sk-container-id-2 div.sk-estimator:hover {background-color: #d4ebff;}#sk-container-id-2 div.sk-parallel-item::after {content: \"\";width: 100%;border-bottom: 1px solid gray;flex-grow: 1;}#sk-container-id-2 div.sk-label:hover label.sk-toggleable__label {background-color: #d4ebff;}#sk-container-id-2 div.sk-serial::before {content: \"\";position: absolute;border-left: 1px solid gray;box-sizing: border-box;top: 0;bottom: 0;left: 50%;z-index: 0;}#sk-container-id-2 div.sk-serial {display: flex;flex-direction: column;align-items: center;background-color: white;padding-right: 0.2em;padding-left: 0.2em;position: relative;}#sk-container-id-2 div.sk-item {position: relative;z-index: 1;}#sk-container-id-2 div.sk-parallel {display: flex;align-items: stretch;justify-content: center;background-color: white;position: relative;}#sk-container-id-2 div.sk-item::before, #sk-container-id-2 div.sk-parallel-item::before {content: \"\";position: absolute;border-left: 1px solid gray;box-sizing: border-box;top: 0;bottom: 0;left: 50%;z-index: -1;}#sk-container-id-2 div.sk-parallel-item {display: flex;flex-direction: column;z-index: 1;position: relative;background-color: white;}#sk-container-id-2 div.sk-parallel-item:first-child::after {align-self: flex-end;width: 50%;}#sk-container-id-2 div.sk-parallel-item:last-child::after {align-self: flex-start;width: 50%;}#sk-container-id-2 div.sk-parallel-item:only-child::after {width: 0;}#sk-container-id-2 div.sk-dashed-wrapped {border: 1px dashed gray;margin: 0 0.4em 0.5em 0.4em;box-sizing: border-box;padding-bottom: 0.4em;background-color: white;}#sk-container-id-2 div.sk-label label {font-family: monospace;font-weight: bold;display: inline-block;line-height: 1.2em;}#sk-container-id-2 div.sk-label-container {text-align: center;}#sk-container-id-2 div.sk-container {/* jupyter's `normalize.less` sets `[hidden] { display: none; }` but bootstrap.min.css set `[hidden] { display: none !important; }` so we also need the `!important` here to be able to override the default hidden behavior on the sphinx rendered scikit-learn.org. See: https://github.com/scikit-learn/scikit-learn/issues/21755 */display: inline-block !important;position: relative;}#sk-container-id-2 div.sk-text-repr-fallback {display: none;}</style><div id=\"sk-container-id-2\" class=\"sk-top-container\"><div class=\"sk-text-repr-fallback\"><pre>LinearRegression()</pre><b>In a Jupyter environment, please rerun this cell to show the HTML representation or trust the notebook. <br />On GitHub, the HTML representation is unable to render, please try loading this page with nbviewer.org.</b></div><div class=\"sk-container\" hidden><div class=\"sk-item\"><div class=\"sk-estimator sk-toggleable\"><input class=\"sk-toggleable__control sk-hidden--visually\" id=\"sk-estimator-id-2\" type=\"checkbox\" checked><label for=\"sk-estimator-id-2\" class=\"sk-toggleable__label sk-toggleable__label-arrow\">LinearRegression</label><div class=\"sk-toggleable__content\"><pre>LinearRegression()</pre></div></div></div></div></div>"
            ]
          },
          "metadata": {},
          "execution_count": 171
        }
      ]
    },
    {
      "cell_type": "code",
      "source": [
        "import seaborn as sns\n",
        "\n",
        "# Scatter plot of MRP vs. Selling Price\n",
        "sns.scatterplot(x='MRP', y='Discount', data=df)\n",
        "plt.xlabel('MRP')\n",
        "plt.ylabel('Selling Price')\n",
        "plt.title('MRP vs. Selling Price')\n",
        "plt.show()"
      ],
      "metadata": {
        "colab": {
          "base_uri": "https://localhost:8080/",
          "height": 472
        },
        "id": "-vLOJHX2b1Rl",
        "outputId": "1177135c-1e85-4530-ee1f-e746f9215fff"
      },
      "execution_count": null,
      "outputs": [
        {
          "output_type": "display_data",
          "data": {
            "text/plain": [
              "<Figure size 640x480 with 1 Axes>"
            ],
            "image/png": "[encoded data removed]"
          },
          "metadata": {}
        }
      ]
    },
    {
      "cell_type": "code",
      "source": [
        "import pandas as pd\n",
        "import matplotlib.pyplot as plt\n",
        "import seaborn as sns\n",
        "\n",
        "# Assuming your DataFrame is already loaded\n",
        "# df = pd.read_csv(\"/content/flipkart_healthcare.csv\")\n",
        "\n",
        "# Plotting the distribution of ratings using a histogram\n",
        "plt.figure(figsize=(8, 6))\n",
        "sns.histplot(df['Ratings'], bins=10, kde=True, color='blue')\n",
        "plt.xlabel('Ratings')\n",
        "plt.ylabel('no_ratings')\n",
        "plt.title('Distribution of Ratings for Healthcare Products')\n",
        "plt.tight_layout()\n",
        "plt.show()\n"
      ],
      "metadata": {
        "colab": {
          "base_uri": "https://localhost:8080/",
          "height": 607
        },
        "id": "og2I0BiPi9jG",
        "outputId": "e89072c8-b4d4-423b-dbd8-b84f4afc882c"
      },
      "execution_count": null,
      "outputs": [
        {
          "output_type": "display_data",
          "data": {
            "text/plain": [
              "<Figure size 800x600 with 1 Axes>"
            ],
            "image/png": "[encoded data removed]"
          },
          "metadata": {}
        }
      ]
    },
    {
      "cell_type": "markdown",
      "source": [
        "# Recommendation system\n"
      ],
      "metadata": {
        "id": "emhLfRF1L985"
      }
    },
    {
      "cell_type": "code",
      "source": [
        "from sklearn.preprocessing import LabelEncoder\n",
        "\n",
        "le = LabelEncoder()\n",
        "df['Ratings'] = le.fit_transform(df['Name'])\n",
        "\n",
        "# Create a new dataframe with the user_id frequency table\n",
        "freq_table = pd.DataFrame({'Name': df['Ratings'].value_counts().index, 'Frequency': df['Ratings'].value_counts().values})\n",
        "\n",
        "# Display the dataframe\n",
        "print(freq_table)\n",
        "id_example = freq_table.iloc[0,0]\n",
        "print(id_example)"
      ],
      "metadata": {
        "colab": {
          "base_uri": "https://localhost:8080/"
        },
        "id": "7_CkuA9KMIY6",
        "outputId": "3547e116-ec84-48b1-9e7e-e0ecf6b73864"
      },
      "execution_count": null,
      "outputs": [
        {
          "output_type": "stream",
          "name": "stdout",
          "text": [
            "     Name  Frequency\n",
            "0     119         12\n",
            "1      97          8\n",
            "2     147          2\n",
            "3     109          2\n",
            "4      88          2\n",
            "..    ...        ...\n",
            "185   159          1\n",
            "186   168          1\n",
            "187    50          1\n",
            "188   105          1\n",
            "189    38          1\n",
            "\n",
            "[190 rows x 2 columns]\n",
            "119\n"
          ]
        }
      ]
    },
    {
      "cell_type": "markdown",
      "source": [
        "Converting a column of strings to numbers is a common step in data analysis and machine learning, and it can be useful in several ways. 😃\n",
        "\n",
        "First, many machine learning algorithms require numeric input data to work properly, so transforming the data can help ensure that the algorithm can process it correctly. 👨‍💻\n",
        "\n",
        "Second, numeric data can be easier to work with than strings in some cases. For example, you can perform mathematical operations on numeric data, which can be useful in calculating things like averages, sums, and other statistics. 📊\n",
        "\n",
        "In the context of a recommendation system, converting user IDs from strings to numbers can help simplify the calculation of similarity scores between users or items. This can improve the efficiency and accuracy of the recommendation system. 🚀\n",
        "\n",
        "Overall, converting strings to numbers is a common and useful step in data analysis and machine learning, and it can be particularly helpful in improving the performance of recommendation systems. 🤖"
      ],
      "metadata": {
        "id": "Uh1DMylaRX-N"
      }
    },
    {
      "cell_type": "code",
      "source": [
        "from sklearn.feature_extraction.text import TfidfVectorizer\n",
        "from sklearn.metrics.pairwise import cosine_similarity\n",
        "\n",
        "def recommend_products(df, Ratings):\n",
        "    # Use TfidfVectorizer to transform the product descriptions into numerical feature vectors\n",
        "    tfidf = TfidfVectorizer(stop_words='english')\n",
        "    df['about_product'] = df['about_product'].fillna('')  # fill NaN values with empty string\n",
        "    tfidf_matrix = tfidf.fit_transform(df['Name'])\n",
        "\n",
        "    # Get the purchase history for the user\n",
        "    user_history = df[df['Name'] == Ratings]\n",
        "\n",
        "    # Use cosine_similarity to calculate the similarity between each pair of product descriptions\n",
        "    # only for the products that the user has already purchased\n",
        "    indices = user_history.index.tolist()\n",
        "\n",
        "    if indices:\n",
        "        # Create a new similarity matrix with only the rows and columns for the purchased products\n",
        "        cosine_sim_user = cosine_similarity(tfidf_matrix[indices], tfidf_matrix)\n",
        "\n",
        "        # Create a pandas Series with product indices as the index and product names as the values\n",
        "        products = df.iloc[indices]['product_name']\n",
        "        indices = pd.Series(products.index, index=products)\n",
        "\n",
        "        # Get the indices and similarity scores of products similar to the ones the user has already purchased\n",
        "        similarity_scores = list(enumerate(cosine_sim_user[-1]))\n",
        "        similarity_scores = [(i, score) for (i, score) in similarity_scores if i not in indices]\n",
        "\n",
        "        # Sort the similarity scores in descending order\n",
        "        similarity_scores = sorted(similarity_scores, key=lambda x: x[1], reverse=True)\n",
        "\n",
        "        # Get the indices of the top 5 most similar products\n",
        "        top_products = [i[0] for i in similarity_scores[1:6]]\n",
        "\n",
        "        # Get the names of the top 5 most similar products\n",
        "        recommended_products = df.iloc[top_products]['product_name'].tolist()\n",
        "\n",
        "        # Get the reasons for the recommendation\n",
        "        score = [similarity_scores[i][1] for i in range(5)]\n",
        "\n",
        "        # Create a DataFrame with the results\n",
        "        results_df = pd.DataFrame({'Id Encoded': [Ratings] * 5,\n",
        "                                   'recommended product': recommended_products,\n",
        "                                   'score recommendation': score})\n",
        "\n",
        "        return results_df\n",
        "\n",
        "    else:\n",
        "        print(\"No purchase history found.\")\n",
        "        return None"
      ],
      "metadata": {
        "id": "Ad1qWqIMMMcI"
      },
      "execution_count": null,
      "outputs": []
    },
    {
      "cell_type": "code",
      "source": [
        "# Replace 'user_encoded_id' with the actual encoded ID of the user\n",
        "Ratings = 4.4  # Replace with the actual encoded ID\n",
        "\n",
        "# Call the recommend_products function with the user's encoded ID\n",
        "recommendations = recommend_products(df, 4.4)\n",
        "print(recommendations)\n"
      ],
      "metadata": {
        "id": "bIVLg1X4nRx1"
      },
      "execution_count": null,
      "outputs": []
    },
    {
      "cell_type": "markdown",
      "source": [
        "No purchase history found"
      ],
      "metadata": {
        "id": "nSwehb-5wKKM"
      }
    }
  ]
}